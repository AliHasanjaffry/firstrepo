{
 "cells": [
  {
   "cell_type": "code",
   "execution_count": null,
   "id": "a2b1b7b0",
   "metadata": {},
   "outputs": [],
   "source": [
    "# Pandas (Pannel Data analysis)\n",
    "# import to analyze\n",
    "# Python Data Analysis Library (Pandas)\n",
    "# Data manipulation and Data Analysis"
   ]
  }
 ],
 "metadata": {
  "kernelspec": {
   "display_name": "Python 3",
   "language": "python",
   "name": "python3"
  },
  "language_info": {
   "codemirror_mode": {
    "name": "ipython",
    "version": 3
   },
   "file_extension": ".py",
   "mimetype": "text/x-python",
   "name": "python",
   "nbconvert_exporter": "python",
   "pygments_lexer": "ipython3",
   "version": "3.8.8"
  }
 },
 "nbformat": 4,
 "nbformat_minor": 5
}
